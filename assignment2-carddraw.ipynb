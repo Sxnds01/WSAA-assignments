{
 "cells": [
  {
   "cell_type": "code",
   "execution_count": 1,
   "metadata": {},
   "outputs": [],
   "source": [
    "# Import the requests library to be able to send HTTP requests to the deck of cards API\n",
    "import requests"
   ]
  },
  {
   "cell_type": "code",
   "execution_count": 3,
   "metadata": {},
   "outputs": [
    {
     "name": "stdout",
     "output_type": "stream",
     "text": [
      "Raw Response: {\"success\": true, \"deck_id\": \"rbdgpp9lde3z\", \"remaining\": 52, \"shuffled\": true}\n"
     ]
    }
   ],
   "source": [
    "new_deck = \"https://deckofcardsapi.com/api/deck/new/shuffle/?deck_count=1\"\n",
    "response = requests.get(new_deck)\n",
    "deck_data = response.json()\n",
    "deck_id = deck_data[\"deck_id\"]\n",
    "\n",
    "print(\"Raw Response:\", response.text)\n"
   ]
  },
  {
   "cell_type": "code",
   "execution_count": 4,
   "metadata": {},
   "outputs": [],
   "source": [
    "draw_cards = f\"https://deckofcardsapi.com/api/deck/rbdgpp9lde3z/draw/?count=5\"\n",
    "response = requests.get(draw_cards)\n",
    "cards_data = response.json()\n"
   ]
  },
  {
   "cell_type": "code",
   "execution_count": 5,
   "metadata": {},
   "outputs": [
    {
     "name": "stdout",
     "output_type": "stream",
     "text": [
      "QUEEN of CLUBS\n",
      "QUEEN of SPADES\n",
      "6 of CLUBS\n",
      "4 of SPADES\n",
      "6 of SPADES\n"
     ]
    }
   ],
   "source": [
    "cards = cards_data[\"cards\"]\n",
    "for card in cards:\n",
    "    print(f\"{card['value']} of {card['suit']}\")\n"
   ]
  }
 ],
 "metadata": {
  "kernelspec": {
   "display_name": "base",
   "language": "python",
   "name": "python3"
  },
  "language_info": {
   "codemirror_mode": {
    "name": "ipython",
    "version": 3
   },
   "file_extension": ".py",
   "mimetype": "text/x-python",
   "name": "python",
   "nbconvert_exporter": "python",
   "pygments_lexer": "ipython3",
   "version": "3.12.4"
  }
 },
 "nbformat": 4,
 "nbformat_minor": 2
}
